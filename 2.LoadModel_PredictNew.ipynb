{
 "cells": [
  {
   "cell_type": "code",
   "execution_count": 1,
   "id": "absent-processor",
   "metadata": {},
   "outputs": [
    {
     "name": "stdout",
     "output_type": "stream",
     "text": [
      "importing Jupyter notebook from Lib_final_test.ipynb\n"
     ]
    }
   ],
   "source": [
    "import pandas as pd\n",
    "import numpy as np\n",
    "import import_ipynb\n",
    "from Lib_final_test import *"
   ]
  },
  {
   "cell_type": "code",
   "execution_count": 2,
   "id": "standard-seller",
   "metadata": {},
   "outputs": [],
   "source": [
    "#Load data test và clean \n",
    "df = load_n_clean_data_test('House_test.xlsx')"
   ]
  },
  {
   "cell_type": "code",
   "execution_count": 3,
   "id": "found-float",
   "metadata": {},
   "outputs": [
    {
     "name": "stdout",
     "output_type": "stream",
     "text": [
      "(1458, 8)\n"
     ]
    },
    {
     "data": {
      "text/html": [
       "<div>\n",
       "<style scoped>\n",
       "    .dataframe tbody tr th:only-of-type {\n",
       "        vertical-align: middle;\n",
       "    }\n",
       "\n",
       "    .dataframe tbody tr th {\n",
       "        vertical-align: top;\n",
       "    }\n",
       "\n",
       "    .dataframe thead th {\n",
       "        text-align: right;\n",
       "    }\n",
       "</style>\n",
       "<table border=\"1\" class=\"dataframe\">\n",
       "  <thead>\n",
       "    <tr style=\"text-align: right;\">\n",
       "      <th></th>\n",
       "      <th>Gia</th>\n",
       "      <th>Nha_ve_sinh</th>\n",
       "      <th>Cau_truc</th>\n",
       "      <th>Dien_tich</th>\n",
       "      <th>Dien_tich_su_dung</th>\n",
       "      <th>Hem_duong</th>\n",
       "      <th>Duong</th>\n",
       "      <th>Dia_diem</th>\n",
       "    </tr>\n",
       "  </thead>\n",
       "  <tbody>\n",
       "    <tr>\n",
       "      <th>0</th>\n",
       "      <td>3800.0</td>\n",
       "      <td>1</td>\n",
       "      <td>2.0</td>\n",
       "      <td>47.6</td>\n",
       "      <td>95.3</td>\n",
       "      <td>2.0</td>\n",
       "      <td>Đường Phạm Văn Chiêu</td>\n",
       "      <td>Quận Gò Vấp, Phường 14</td>\n",
       "    </tr>\n",
       "    <tr>\n",
       "      <th>1</th>\n",
       "      <td>11000.0</td>\n",
       "      <td>11</td>\n",
       "      <td>4.0</td>\n",
       "      <td>56.6</td>\n",
       "      <td>186.0</td>\n",
       "      <td>4.0</td>\n",
       "      <td>Đường Cao Thắng</td>\n",
       "      <td>Quận Phú Nhuận, Phường 17</td>\n",
       "    </tr>\n",
       "  </tbody>\n",
       "</table>\n",
       "</div>"
      ],
      "text/plain": [
       "       Gia  Nha_ve_sinh  Cau_truc  Dien_tich  Dien_tich_su_dung  Hem_duong  \\\n",
       "0   3800.0            1       2.0       47.6               95.3        2.0   \n",
       "1  11000.0           11       4.0       56.6              186.0        4.0   \n",
       "\n",
       "                  Duong                   Dia_diem  \n",
       "0  Đường Phạm Văn Chiêu     Quận Gò Vấp, Phường 14  \n",
       "1       Đường Cao Thắng  Quận Phú Nhuận, Phường 17  "
      ]
     },
     "execution_count": 3,
     "metadata": {},
     "output_type": "execute_result"
    }
   ],
   "source": [
    "print(df.shape)\n",
    "df.head(2)"
   ]
  },
  {
   "cell_type": "code",
   "execution_count": 4,
   "id": "standing-mitchell",
   "metadata": {},
   "outputs": [
    {
     "data": {
      "text/html": [
       "<div>\n",
       "<style scoped>\n",
       "    .dataframe tbody tr th:only-of-type {\n",
       "        vertical-align: middle;\n",
       "    }\n",
       "\n",
       "    .dataframe tbody tr th {\n",
       "        vertical-align: top;\n",
       "    }\n",
       "\n",
       "    .dataframe thead th {\n",
       "        text-align: right;\n",
       "    }\n",
       "</style>\n",
       "<table border=\"1\" class=\"dataframe\">\n",
       "  <thead>\n",
       "    <tr style=\"text-align: right;\">\n",
       "      <th></th>\n",
       "      <th>Gia</th>\n",
       "      <th>Nha_ve_sinh</th>\n",
       "      <th>Cau_truc</th>\n",
       "      <th>Dien_tich</th>\n",
       "      <th>Dien_tich_su_dung</th>\n",
       "      <th>Hem_duong</th>\n",
       "      <th>Duong</th>\n",
       "      <th>Dia_diem</th>\n",
       "    </tr>\n",
       "  </thead>\n",
       "  <tbody>\n",
       "    <tr>\n",
       "      <th>1456</th>\n",
       "      <td>47000.0</td>\n",
       "      <td>4</td>\n",
       "      <td>2.5</td>\n",
       "      <td>660.0</td>\n",
       "      <td>83.5</td>\n",
       "      <td>5.0</td>\n",
       "      <td>Đường Số 24</td>\n",
       "      <td>Quận Thủ Đức, Phường Linh Đông</td>\n",
       "    </tr>\n",
       "    <tr>\n",
       "      <th>1457</th>\n",
       "      <td>5700.0</td>\n",
       "      <td>4</td>\n",
       "      <td>3.0</td>\n",
       "      <td>44.7</td>\n",
       "      <td>134.1</td>\n",
       "      <td>3.0</td>\n",
       "      <td>Đường Tôn Thất Thuyết</td>\n",
       "      <td>Quận 4, Phường 3</td>\n",
       "    </tr>\n",
       "  </tbody>\n",
       "</table>\n",
       "</div>"
      ],
      "text/plain": [
       "          Gia  Nha_ve_sinh  Cau_truc  Dien_tich  Dien_tich_su_dung  Hem_duong  \\\n",
       "1456  47000.0            4       2.5      660.0               83.5        5.0   \n",
       "1457   5700.0            4       3.0       44.7              134.1        3.0   \n",
       "\n",
       "                      Duong                        Dia_diem  \n",
       "1456            Đường Số 24  Quận Thủ Đức, Phường Linh Đông  \n",
       "1457  Đường Tôn Thất Thuyết                Quận 4, Phường 3  "
      ]
     },
     "execution_count": 4,
     "metadata": {},
     "output_type": "execute_result"
    }
   ],
   "source": [
    "df.tail(2)"
   ]
  },
  {
   "cell_type": "code",
   "execution_count": 5,
   "id": "powered-healing",
   "metadata": {},
   "outputs": [],
   "source": [
    "# df.info()"
   ]
  },
  {
   "cell_type": "code",
   "execution_count": 6,
   "id": "square-functionality",
   "metadata": {},
   "outputs": [],
   "source": [
    "# Split input/output\n",
    "X = df.drop('Gia',axis=1)\n",
    "y = df['Gia']"
   ]
  },
  {
   "cell_type": "code",
   "execution_count": 7,
   "id": "consistent-sunset",
   "metadata": {},
   "outputs": [
    {
     "data": {
      "text/plain": [
       "((1458, 7), (1458,))"
      ]
     },
     "execution_count": 7,
     "metadata": {},
     "output_type": "execute_result"
    }
   ],
   "source": [
    "X.shape, y.shape"
   ]
  },
  {
   "cell_type": "code",
   "execution_count": 8,
   "id": "emotional-porter",
   "metadata": {},
   "outputs": [],
   "source": [
    "import pickle\n",
    "### Load model bbc_model.pkl\n",
    "with open('house_xgb_model_DamThiMinhPhuong_K269.pkl', 'rb') as file: \n",
    "    xgb_pipe = pickle.load(file)"
   ]
  },
  {
   "cell_type": "code",
   "execution_count": 9,
   "id": "separate-sodium",
   "metadata": {
    "scrolled": true
   },
   "outputs": [
    {
     "data": {
      "text/html": [
       "<div>\n",
       "<style scoped>\n",
       "    .dataframe tbody tr th:only-of-type {\n",
       "        vertical-align: middle;\n",
       "    }\n",
       "\n",
       "    .dataframe tbody tr th {\n",
       "        vertical-align: top;\n",
       "    }\n",
       "\n",
       "    .dataframe thead th {\n",
       "        text-align: right;\n",
       "    }\n",
       "</style>\n",
       "<table border=\"1\" class=\"dataframe\">\n",
       "  <thead>\n",
       "    <tr style=\"text-align: right;\">\n",
       "      <th></th>\n",
       "      <th>R2_score</th>\n",
       "      <th>rmse</th>\n",
       "    </tr>\n",
       "  </thead>\n",
       "  <tbody>\n",
       "    <tr>\n",
       "      <th>Result</th>\n",
       "      <td>0.58826</td>\n",
       "      <td>5907.641737</td>\n",
       "    </tr>\n",
       "  </tbody>\n",
       "</table>\n",
       "</div>"
      ],
      "text/plain": [
       "        R2_score         rmse\n",
       "Result   0.58826  5907.641737"
      ]
     },
     "execution_count": 9,
     "metadata": {},
     "output_type": "execute_result"
    }
   ],
   "source": [
    "regression_model_evaluation2(xgb_pipe,X,y)"
   ]
  },
  {
   "cell_type": "markdown",
   "id": "judicial-stability",
   "metadata": {},
   "source": [
    "### EM CÁM ƠN THẦY VÀ CHÚC THẦY THẬT NHIỀU SỨC KHỎE !!"
   ]
  }
 ],
 "metadata": {
  "kernelspec": {
   "display_name": "Python 3",
   "language": "python",
   "name": "python3"
  },
  "language_info": {
   "codemirror_mode": {
    "name": "ipython",
    "version": 3
   },
   "file_extension": ".py",
   "mimetype": "text/x-python",
   "name": "python",
   "nbconvert_exporter": "python",
   "pygments_lexer": "ipython3",
   "version": "3.6.8"
  }
 },
 "nbformat": 4,
 "nbformat_minor": 5
}
